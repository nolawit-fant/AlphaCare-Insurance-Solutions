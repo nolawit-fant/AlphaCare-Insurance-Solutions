{
 "cells": [
  {
   "cell_type": "code",
   "execution_count": 1,
   "metadata": {},
   "outputs": [],
   "source": [
    "import pandas as pd \n",
    "import numpy as np\n",
    "import matplotlib.pyplot as plt\n",
    "import seaborn as sns\n",
    "import os\n",
    "import sys\n",
    "sys.path.append(os.path.abspath(os.path.join('..')))\n",
    "from scripts.hypothesis_testing import *"
   ]
  },
  {
   "cell_type": "code",
   "execution_count": 2,
   "metadata": {},
   "outputs": [],
   "source": [
    "data = pd.read_csv('../data/MachineLearningRating_v3.csv', low_memory=False, index_col=False) "
   ]
  },
  {
   "cell_type": "markdown",
   "metadata": {},
   "source": [
    "## 1. Test for risk differences across provinces\n",
    "\n",
    "### Null Hypothesis (H₀): There are no risk differences across provinces (interms of TotalPremium)\n",
    "### Alternative Hypothesis (H₁): There is risk differences across provinces"
   ]
  },
  {
   "cell_type": "code",
   "execution_count": 3,
   "metadata": {},
   "outputs": [],
   "source": [
    "data['Margin'] = data['TotalPremium'] - data['TotalClaims']"
   ]
  },
  {
   "cell_type": "code",
   "execution_count": 4,
   "metadata": {},
   "outputs": [],
   "source": [
    "def print_test_results(result, risks):\n",
    "    if 'error' in result:\n",
    "        print(result['error'])\n",
    "    else:\n",
    "        print(f\"Test type: {result['test_type']}\")\n",
    "        print(f\"Statistic: {result['statistic']}\")\n",
    "        print(f\"p-value: {result['p_value']}\")\n",
    "        print(result['interpretation'])\n",
    "    print(f\"Risks:\\n{risks}\\n\")"
   ]
  },
  {
   "cell_type": "code",
   "execution_count": 5,
   "metadata": {},
   "outputs": [
    {
     "name": "stdout",
     "output_type": "stream",
     "text": [
      "1. Testing for risk differences across provinces\n",
      "Test type: anova\n",
      "Statistic: 157.27016602047266\n",
      "p-value: 3.8358007302190926e-266\n",
      "Reject the null hypothesis (p-value: 0.0000). There is a significant difference.\n",
      "Risks:\n",
      "Province\n",
      "Eastern Cape     70.546672\n",
      "Free State       64.373780\n",
      "Gauteng          61.071115\n",
      "KwaZulu-Natal    77.800695\n",
      "Limpopo          61.899038\n",
      "Mpumalanga       53.801205\n",
      "North West       52.276258\n",
      "Northern Cape    49.617253\n",
      "Western Cape     57.416793\n",
      "Name: TotalPremium, dtype: float64\n",
      "\n"
     ]
    }
   ],
   "source": [
    "print(\"1. Testing for risk differences across provinces\")\n",
    "province_risks = calculate_risk(data, 'Province', 'TotalPremium')\n",
    "result = perform_statistical_test(data, 'Province', 'TotalPremium', 'anova')\n",
    "print_test_results(result, province_risks)"
   ]
  },
  {
   "cell_type": "markdown",
   "metadata": {},
   "source": [
    "Reject the null hypothesis. There are risk differences across provinces."
   ]
  },
  {
   "cell_type": "markdown",
   "metadata": {},
   "source": [
    "## 2. Test for risk differences between zip codes\n",
    "\n",
    "### Null Hypothesis (H₀): TThere are no risk differences between zip codes(interms of TotalPremium)\n",
    "### Alternative Hypothesis (H₁): There is risk differences between zip codes"
   ]
  },
  {
   "cell_type": "code",
   "execution_count": 6,
   "metadata": {},
   "outputs": [
    {
     "name": "stdout",
     "output_type": "stream",
     "text": [
      "2. Testing for risk differences between zipcodes\n",
      "Test type: anova\n",
      "Statistic: 10.811115758352543\n",
      "p-value: 0.0\n",
      "Reject the null hypothesis (p-value: 0.0000). There is a significant difference.\n",
      "Risks:\n",
      "PostalCode\n",
      "3887    196.635975\n",
      "4016    195.716263\n",
      "9744    175.104079\n",
      "3802    172.142169\n",
      "3740    171.417242\n",
      "Name: TotalPremium, dtype: float64\n",
      "\n"
     ]
    }
   ],
   "source": [
    "print(\"2. Testing for risk differences between zipcodes\")\n",
    "zipcode_risks = calculate_risk(data, 'PostalCode', 'TotalPremium')\n",
    "result = perform_statistical_test(data, 'PostalCode', 'TotalPremium', 'anova')\n",
    "print_test_results(result, zipcode_risks.nlargest(5))"
   ]
  },
  {
   "cell_type": "markdown",
   "metadata": {},
   "source": [
    "## 3. Test for Risk Differences Between Women and Men\n",
    "### Null Hypothesis (H₀): There is no significant difference in risk between males and females in terms of Total Premium.\n",
    "### Alternative Hypothesis (H₁): There is a significant difference in risk between males and females."
   ]
  },
  {
   "cell_type": "markdown",
   "metadata": {},
   "source": [
    "Reject the null hypothesis. There are risk differences between zip codes."
   ]
  },
  {
   "cell_type": "code",
   "execution_count": 7,
   "metadata": {},
   "outputs": [
    {
     "name": "stdout",
     "output_type": "stream",
     "text": [
      "4. Testing for risk differences between Women and Men\n",
      "Test type: t_test\n",
      "Statistic: -5.118420932688848\n",
      "p-value: 3.0925282750010697e-07\n",
      "Reject the null hypothesis (p-value: 0.0000). There is a significant difference.\n",
      "Risks:\n",
      "Gender\n",
      "Female    45.074841\n",
      "Male      36.904566\n",
      "Name: TotalPremium, dtype: float64\n",
      "\n"
     ]
    }
   ],
   "source": [
    "print(\"4. Testing for risk differences between Women and Men\")\n",
    "filtered_data = data[data['Gender'].isin(['Male', 'Female'])]\n",
    "gender_risks = calculate_risk(filtered_data, 'Gender', 'TotalPremium')\n",
    "result = perform_statistical_test(filtered_data, 'Gender', 'TotalPremium', 't_test')\n",
    "print_test_results(result, gender_risks)"
   ]
  },
  {
   "cell_type": "markdown",
   "metadata": {},
   "source": [
    "Reject the null hypothesis. There is a significant difference in risk between males and females"
   ]
  }
 ],
 "metadata": {
  "kernelspec": {
   "display_name": "base",
   "language": "python",
   "name": "python3"
  },
  "language_info": {
   "codemirror_mode": {
    "name": "ipython",
    "version": 3
   },
   "file_extension": ".py",
   "mimetype": "text/x-python",
   "name": "python",
   "nbconvert_exporter": "python",
   "pygments_lexer": "ipython3",
   "version": "3.12.4"
  }
 },
 "nbformat": 4,
 "nbformat_minor": 2
}
