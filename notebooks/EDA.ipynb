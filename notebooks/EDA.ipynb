{
 "cells": [
  {
   "cell_type": "code",
   "execution_count": 1,
   "metadata": {},
   "outputs": [],
   "source": [
    "import pandas as pd\n",
    "import numpy as np\n",
    "import matplotlib.pyplot as plt\n",
    "import seaborn as sns\n",
    "import sys\n",
    "import os\n",
    "import sys"
   ]
  },
  {
   "cell_type": "code",
   "execution_count": 2,
   "metadata": {},
   "outputs": [],
   "source": [
    "scripts_path = 'C:\\\\Users\\\\nolaw\\\\OneDrive\\\\Desktop\\\\kifiya bootcamp\\\\week 3\\\\AlphaCare-Insurance-Solutions\\\\scripts'\n",
    "sys.path.append(scripts_path)\n",
    "from EDA import *\n"
   ]
  },
  {
   "cell_type": "markdown",
   "metadata": {},
   "source": [
    "Step 1: Read the .txt file (with pipe delimiter)"
   ]
  },
  {
   "cell_type": "code",
   "execution_count": 5,
   "metadata": {},
   "outputs": [
    {
     "name": "stderr",
     "output_type": "stream",
     "text": [
      "C:\\Users\\nolaw\\AppData\\Local\\Temp\\ipykernel_22288\\3803786269.py:1: DtypeWarning: Columns (32,37) have mixed types. Specify dtype option on import or set low_memory=False.\n",
      "  df = pd.read_csv('../data/MachineLearningRating_v3.txt', delimiter='|')\n"
     ]
    }
   ],
   "source": [
    "\n",
    "df = pd.read_csv('../data/MachineLearningRating_v3.txt', delimiter='|')"
   ]
  },
  {
   "cell_type": "markdown",
   "metadata": {},
   "source": [
    "Step 2: Save it as a .csv file"
   ]
  },
  {
   "cell_type": "code",
   "execution_count": 3,
   "metadata": {},
   "outputs": [],
   "source": [
    "\n",
    "df.to_csv('../data/MachineLearningRating_v3.csv', index=False)\n"
   ]
  },
  {
   "cell_type": "code",
   "execution_count": 4,
   "metadata": {},
   "outputs": [
    {
     "data": {
      "text/html": [
       "<div>\n",
       "<style scoped>\n",
       "    .dataframe tbody tr th:only-of-type {\n",
       "        vertical-align: middle;\n",
       "    }\n",
       "\n",
       "    .dataframe tbody tr th {\n",
       "        vertical-align: top;\n",
       "    }\n",
       "\n",
       "    .dataframe thead th {\n",
       "        text-align: right;\n",
       "    }\n",
       "</style>\n",
       "<table border=\"1\" class=\"dataframe\">\n",
       "  <thead>\n",
       "    <tr style=\"text-align: right;\">\n",
       "      <th></th>\n",
       "      <th>UnderwrittenCoverID</th>\n",
       "      <th>PolicyID</th>\n",
       "      <th>TransactionMonth</th>\n",
       "      <th>IsVATRegistered</th>\n",
       "      <th>Citizenship</th>\n",
       "      <th>LegalType</th>\n",
       "      <th>Title</th>\n",
       "      <th>Language</th>\n",
       "      <th>Bank</th>\n",
       "      <th>AccountType</th>\n",
       "      <th>...</th>\n",
       "      <th>ExcessSelected</th>\n",
       "      <th>CoverCategory</th>\n",
       "      <th>CoverType</th>\n",
       "      <th>CoverGroup</th>\n",
       "      <th>Section</th>\n",
       "      <th>Product</th>\n",
       "      <th>StatutoryClass</th>\n",
       "      <th>StatutoryRiskType</th>\n",
       "      <th>TotalPremium</th>\n",
       "      <th>TotalClaims</th>\n",
       "    </tr>\n",
       "  </thead>\n",
       "  <tbody>\n",
       "    <tr>\n",
       "      <th>0</th>\n",
       "      <td>145249</td>\n",
       "      <td>12827</td>\n",
       "      <td>2015-03-01 00:00:00</td>\n",
       "      <td>True</td>\n",
       "      <td></td>\n",
       "      <td>Close Corporation</td>\n",
       "      <td>Mr</td>\n",
       "      <td>English</td>\n",
       "      <td>First National Bank</td>\n",
       "      <td>Current account</td>\n",
       "      <td>...</td>\n",
       "      <td>Mobility - Windscreen</td>\n",
       "      <td>Windscreen</td>\n",
       "      <td>Windscreen</td>\n",
       "      <td>Comprehensive - Taxi</td>\n",
       "      <td>Motor Comprehensive</td>\n",
       "      <td>Mobility Metered Taxis: Monthly</td>\n",
       "      <td>Commercial</td>\n",
       "      <td>IFRS Constant</td>\n",
       "      <td>21.929825</td>\n",
       "      <td>0.0</td>\n",
       "    </tr>\n",
       "    <tr>\n",
       "      <th>1</th>\n",
       "      <td>145249</td>\n",
       "      <td>12827</td>\n",
       "      <td>2015-05-01 00:00:00</td>\n",
       "      <td>True</td>\n",
       "      <td></td>\n",
       "      <td>Close Corporation</td>\n",
       "      <td>Mr</td>\n",
       "      <td>English</td>\n",
       "      <td>First National Bank</td>\n",
       "      <td>Current account</td>\n",
       "      <td>...</td>\n",
       "      <td>Mobility - Windscreen</td>\n",
       "      <td>Windscreen</td>\n",
       "      <td>Windscreen</td>\n",
       "      <td>Comprehensive - Taxi</td>\n",
       "      <td>Motor Comprehensive</td>\n",
       "      <td>Mobility Metered Taxis: Monthly</td>\n",
       "      <td>Commercial</td>\n",
       "      <td>IFRS Constant</td>\n",
       "      <td>21.929825</td>\n",
       "      <td>0.0</td>\n",
       "    </tr>\n",
       "    <tr>\n",
       "      <th>2</th>\n",
       "      <td>145249</td>\n",
       "      <td>12827</td>\n",
       "      <td>2015-07-01 00:00:00</td>\n",
       "      <td>True</td>\n",
       "      <td></td>\n",
       "      <td>Close Corporation</td>\n",
       "      <td>Mr</td>\n",
       "      <td>English</td>\n",
       "      <td>First National Bank</td>\n",
       "      <td>Current account</td>\n",
       "      <td>...</td>\n",
       "      <td>Mobility - Windscreen</td>\n",
       "      <td>Windscreen</td>\n",
       "      <td>Windscreen</td>\n",
       "      <td>Comprehensive - Taxi</td>\n",
       "      <td>Motor Comprehensive</td>\n",
       "      <td>Mobility Metered Taxis: Monthly</td>\n",
       "      <td>Commercial</td>\n",
       "      <td>IFRS Constant</td>\n",
       "      <td>0.000000</td>\n",
       "      <td>0.0</td>\n",
       "    </tr>\n",
       "  </tbody>\n",
       "</table>\n",
       "<p>3 rows × 52 columns</p>\n",
       "</div>"
      ],
      "text/plain": [
       "   UnderwrittenCoverID  PolicyID     TransactionMonth  IsVATRegistered  \\\n",
       "0               145249     12827  2015-03-01 00:00:00             True   \n",
       "1               145249     12827  2015-05-01 00:00:00             True   \n",
       "2               145249     12827  2015-07-01 00:00:00             True   \n",
       "\n",
       "  Citizenship          LegalType Title Language                 Bank  \\\n",
       "0              Close Corporation    Mr  English  First National Bank   \n",
       "1              Close Corporation    Mr  English  First National Bank   \n",
       "2              Close Corporation    Mr  English  First National Bank   \n",
       "\n",
       "       AccountType  ...         ExcessSelected CoverCategory   CoverType  \\\n",
       "0  Current account  ...  Mobility - Windscreen    Windscreen  Windscreen   \n",
       "1  Current account  ...  Mobility - Windscreen    Windscreen  Windscreen   \n",
       "2  Current account  ...  Mobility - Windscreen    Windscreen  Windscreen   \n",
       "\n",
       "             CoverGroup              Section                          Product  \\\n",
       "0  Comprehensive - Taxi  Motor Comprehensive  Mobility Metered Taxis: Monthly   \n",
       "1  Comprehensive - Taxi  Motor Comprehensive  Mobility Metered Taxis: Monthly   \n",
       "2  Comprehensive - Taxi  Motor Comprehensive  Mobility Metered Taxis: Monthly   \n",
       "\n",
       "  StatutoryClass StatutoryRiskType  TotalPremium TotalClaims  \n",
       "0     Commercial     IFRS Constant     21.929825         0.0  \n",
       "1     Commercial     IFRS Constant     21.929825         0.0  \n",
       "2     Commercial     IFRS Constant      0.000000         0.0  \n",
       "\n",
       "[3 rows x 52 columns]"
      ]
     },
     "execution_count": 4,
     "metadata": {},
     "output_type": "execute_result"
    }
   ],
   "source": [
    "df.head(3)"
   ]
  },
  {
   "cell_type": "code",
   "execution_count": 5,
   "metadata": {},
   "outputs": [
    {
     "data": {
      "text/html": [
       "<div>\n",
       "<style scoped>\n",
       "    .dataframe tbody tr th:only-of-type {\n",
       "        vertical-align: middle;\n",
       "    }\n",
       "\n",
       "    .dataframe tbody tr th {\n",
       "        vertical-align: top;\n",
       "    }\n",
       "\n",
       "    .dataframe thead th {\n",
       "        text-align: right;\n",
       "    }\n",
       "</style>\n",
       "<table border=\"1\" class=\"dataframe\">\n",
       "  <thead>\n",
       "    <tr style=\"text-align: right;\">\n",
       "      <th></th>\n",
       "      <th>UnderwrittenCoverID</th>\n",
       "      <th>PolicyID</th>\n",
       "      <th>TransactionMonth</th>\n",
       "      <th>IsVATRegistered</th>\n",
       "      <th>Citizenship</th>\n",
       "      <th>LegalType</th>\n",
       "      <th>Title</th>\n",
       "      <th>Language</th>\n",
       "      <th>Bank</th>\n",
       "      <th>AccountType</th>\n",
       "      <th>...</th>\n",
       "      <th>ExcessSelected</th>\n",
       "      <th>CoverCategory</th>\n",
       "      <th>CoverType</th>\n",
       "      <th>CoverGroup</th>\n",
       "      <th>Section</th>\n",
       "      <th>Product</th>\n",
       "      <th>StatutoryClass</th>\n",
       "      <th>StatutoryRiskType</th>\n",
       "      <th>TotalPremium</th>\n",
       "      <th>TotalClaims</th>\n",
       "    </tr>\n",
       "  </thead>\n",
       "  <tbody>\n",
       "    <tr>\n",
       "      <th>1000095</th>\n",
       "      <td>31520</td>\n",
       "      <td>389</td>\n",
       "      <td>2015-08-01 00:00:00</td>\n",
       "      <td>False</td>\n",
       "      <td>ZW</td>\n",
       "      <td>Individual</td>\n",
       "      <td>Mr</td>\n",
       "      <td>English</td>\n",
       "      <td>ABSA Bank</td>\n",
       "      <td>Savings account</td>\n",
       "      <td>...</td>\n",
       "      <td>No excess</td>\n",
       "      <td>Third Party</td>\n",
       "      <td>Third Party</td>\n",
       "      <td>Comprehensive - Taxi</td>\n",
       "      <td>Motor Comprehensive</td>\n",
       "      <td>Mobility Commercial Cover: Monthly</td>\n",
       "      <td>Commercial</td>\n",
       "      <td>IFRS Constant</td>\n",
       "      <td>347.235175</td>\n",
       "      <td>0.0</td>\n",
       "    </tr>\n",
       "    <tr>\n",
       "      <th>1000096</th>\n",
       "      <td>31519</td>\n",
       "      <td>389</td>\n",
       "      <td>2014-07-01 00:00:00</td>\n",
       "      <td>False</td>\n",
       "      <td>ZW</td>\n",
       "      <td>Individual</td>\n",
       "      <td>Mr</td>\n",
       "      <td>English</td>\n",
       "      <td>ABSA Bank</td>\n",
       "      <td>Savings account</td>\n",
       "      <td>...</td>\n",
       "      <td>No excess</td>\n",
       "      <td>Passenger Liability</td>\n",
       "      <td>Passenger Liability</td>\n",
       "      <td>Comprehensive - Taxi</td>\n",
       "      <td>Motor Comprehensive</td>\n",
       "      <td>Mobility Commercial Cover: Monthly</td>\n",
       "      <td>Commercial</td>\n",
       "      <td>IFRS Constant</td>\n",
       "      <td>2.315000</td>\n",
       "      <td>0.0</td>\n",
       "    </tr>\n",
       "    <tr>\n",
       "      <th>1000097</th>\n",
       "      <td>31519</td>\n",
       "      <td>389</td>\n",
       "      <td>2015-02-01 00:00:00</td>\n",
       "      <td>False</td>\n",
       "      <td>ZW</td>\n",
       "      <td>Individual</td>\n",
       "      <td>Mr</td>\n",
       "      <td>English</td>\n",
       "      <td>ABSA Bank</td>\n",
       "      <td>Savings account</td>\n",
       "      <td>...</td>\n",
       "      <td>No excess</td>\n",
       "      <td>Passenger Liability</td>\n",
       "      <td>Passenger Liability</td>\n",
       "      <td>Comprehensive - Taxi</td>\n",
       "      <td>Motor Comprehensive</td>\n",
       "      <td>Mobility Commercial Cover: Monthly</td>\n",
       "      <td>Commercial</td>\n",
       "      <td>IFRS Constant</td>\n",
       "      <td>2.315000</td>\n",
       "      <td>0.0</td>\n",
       "    </tr>\n",
       "  </tbody>\n",
       "</table>\n",
       "<p>3 rows × 52 columns</p>\n",
       "</div>"
      ],
      "text/plain": [
       "         UnderwrittenCoverID  PolicyID     TransactionMonth  IsVATRegistered  \\\n",
       "1000095                31520       389  2015-08-01 00:00:00            False   \n",
       "1000096                31519       389  2014-07-01 00:00:00            False   \n",
       "1000097                31519       389  2015-02-01 00:00:00            False   \n",
       "\n",
       "        Citizenship   LegalType Title Language       Bank      AccountType  \\\n",
       "1000095          ZW  Individual    Mr  English  ABSA Bank  Savings account   \n",
       "1000096          ZW  Individual    Mr  English  ABSA Bank  Savings account   \n",
       "1000097          ZW  Individual    Mr  English  ABSA Bank  Savings account   \n",
       "\n",
       "         ... ExcessSelected        CoverCategory            CoverType  \\\n",
       "1000095  ...      No excess          Third Party          Third Party   \n",
       "1000096  ...      No excess  Passenger Liability  Passenger Liability   \n",
       "1000097  ...      No excess  Passenger Liability  Passenger Liability   \n",
       "\n",
       "                   CoverGroup              Section  \\\n",
       "1000095  Comprehensive - Taxi  Motor Comprehensive   \n",
       "1000096  Comprehensive - Taxi  Motor Comprehensive   \n",
       "1000097  Comprehensive - Taxi  Motor Comprehensive   \n",
       "\n",
       "                                    Product StatutoryClass StatutoryRiskType  \\\n",
       "1000095  Mobility Commercial Cover: Monthly     Commercial     IFRS Constant   \n",
       "1000096  Mobility Commercial Cover: Monthly     Commercial     IFRS Constant   \n",
       "1000097  Mobility Commercial Cover: Monthly     Commercial     IFRS Constant   \n",
       "\n",
       "         TotalPremium TotalClaims  \n",
       "1000095    347.235175         0.0  \n",
       "1000096      2.315000         0.0  \n",
       "1000097      2.315000         0.0  \n",
       "\n",
       "[3 rows x 52 columns]"
      ]
     },
     "execution_count": 5,
     "metadata": {},
     "output_type": "execute_result"
    }
   ],
   "source": [
    "df.tail(3)"
   ]
  },
  {
   "cell_type": "markdown",
   "metadata": {},
   "source": [
    "# Descriptive Statistics"
   ]
  },
  {
   "cell_type": "code",
   "execution_count": 6,
   "metadata": {},
   "outputs": [
    {
     "data": {
      "text/html": [
       "<div>\n",
       "<style scoped>\n",
       "    .dataframe tbody tr th:only-of-type {\n",
       "        vertical-align: middle;\n",
       "    }\n",
       "\n",
       "    .dataframe tbody tr th {\n",
       "        vertical-align: top;\n",
       "    }\n",
       "\n",
       "    .dataframe thead th {\n",
       "        text-align: right;\n",
       "    }\n",
       "</style>\n",
       "<table border=\"1\" class=\"dataframe\">\n",
       "  <thead>\n",
       "    <tr style=\"text-align: right;\">\n",
       "      <th></th>\n",
       "      <th>UnderwrittenCoverID</th>\n",
       "      <th>PolicyID</th>\n",
       "      <th>PostalCode</th>\n",
       "      <th>mmcode</th>\n",
       "      <th>RegistrationYear</th>\n",
       "      <th>Cylinders</th>\n",
       "      <th>cubiccapacity</th>\n",
       "      <th>kilowatts</th>\n",
       "      <th>NumberOfDoors</th>\n",
       "      <th>CustomValueEstimate</th>\n",
       "      <th>NumberOfVehiclesInFleet</th>\n",
       "      <th>SumInsured</th>\n",
       "      <th>CalculatedPremiumPerTerm</th>\n",
       "      <th>TotalPremium</th>\n",
       "      <th>TotalClaims</th>\n",
       "    </tr>\n",
       "  </thead>\n",
       "  <tbody>\n",
       "    <tr>\n",
       "      <th>count</th>\n",
       "      <td>1.000098e+06</td>\n",
       "      <td>1.000098e+06</td>\n",
       "      <td>1.000098e+06</td>\n",
       "      <td>9.995460e+05</td>\n",
       "      <td>1.000098e+06</td>\n",
       "      <td>999546.000000</td>\n",
       "      <td>999546.000000</td>\n",
       "      <td>999546.000000</td>\n",
       "      <td>999546.000000</td>\n",
       "      <td>2.204560e+05</td>\n",
       "      <td>0.0</td>\n",
       "      <td>1.000098e+06</td>\n",
       "      <td>1.000098e+06</td>\n",
       "      <td>1.000098e+06</td>\n",
       "      <td>1.000098e+06</td>\n",
       "    </tr>\n",
       "    <tr>\n",
       "      <th>mean</th>\n",
       "      <td>1.048175e+05</td>\n",
       "      <td>7.956682e+03</td>\n",
       "      <td>3.020601e+03</td>\n",
       "      <td>5.487770e+07</td>\n",
       "      <td>2.010225e+03</td>\n",
       "      <td>4.046642</td>\n",
       "      <td>2466.743258</td>\n",
       "      <td>97.207919</td>\n",
       "      <td>4.019250</td>\n",
       "      <td>2.255311e+05</td>\n",
       "      <td>NaN</td>\n",
       "      <td>6.041727e+05</td>\n",
       "      <td>1.178757e+02</td>\n",
       "      <td>6.190550e+01</td>\n",
       "      <td>6.486119e+01</td>\n",
       "    </tr>\n",
       "    <tr>\n",
       "      <th>std</th>\n",
       "      <td>6.329371e+04</td>\n",
       "      <td>5.290039e+03</td>\n",
       "      <td>2.649854e+03</td>\n",
       "      <td>1.360381e+07</td>\n",
       "      <td>3.261391e+00</td>\n",
       "      <td>0.294020</td>\n",
       "      <td>442.800640</td>\n",
       "      <td>19.393256</td>\n",
       "      <td>0.468314</td>\n",
       "      <td>5.645157e+05</td>\n",
       "      <td>NaN</td>\n",
       "      <td>1.508332e+06</td>\n",
       "      <td>3.997017e+02</td>\n",
       "      <td>2.302845e+02</td>\n",
       "      <td>2.384075e+03</td>\n",
       "    </tr>\n",
       "    <tr>\n",
       "      <th>min</th>\n",
       "      <td>1.000000e+00</td>\n",
       "      <td>1.400000e+01</td>\n",
       "      <td>1.000000e+00</td>\n",
       "      <td>4.041200e+06</td>\n",
       "      <td>1.987000e+03</td>\n",
       "      <td>0.000000</td>\n",
       "      <td>0.000000</td>\n",
       "      <td>0.000000</td>\n",
       "      <td>0.000000</td>\n",
       "      <td>2.000000e+04</td>\n",
       "      <td>NaN</td>\n",
       "      <td>1.000000e-02</td>\n",
       "      <td>0.000000e+00</td>\n",
       "      <td>-7.825768e+02</td>\n",
       "      <td>-1.200241e+04</td>\n",
       "    </tr>\n",
       "    <tr>\n",
       "      <th>25%</th>\n",
       "      <td>5.514300e+04</td>\n",
       "      <td>4.500000e+03</td>\n",
       "      <td>8.270000e+02</td>\n",
       "      <td>6.005692e+07</td>\n",
       "      <td>2.008000e+03</td>\n",
       "      <td>4.000000</td>\n",
       "      <td>2237.000000</td>\n",
       "      <td>75.000000</td>\n",
       "      <td>4.000000</td>\n",
       "      <td>1.350000e+05</td>\n",
       "      <td>NaN</td>\n",
       "      <td>5.000000e+03</td>\n",
       "      <td>3.224800e+00</td>\n",
       "      <td>0.000000e+00</td>\n",
       "      <td>0.000000e+00</td>\n",
       "    </tr>\n",
       "    <tr>\n",
       "      <th>50%</th>\n",
       "      <td>9.408300e+04</td>\n",
       "      <td>7.071000e+03</td>\n",
       "      <td>2.000000e+03</td>\n",
       "      <td>6.005842e+07</td>\n",
       "      <td>2.011000e+03</td>\n",
       "      <td>4.000000</td>\n",
       "      <td>2694.000000</td>\n",
       "      <td>111.000000</td>\n",
       "      <td>4.000000</td>\n",
       "      <td>2.200000e+05</td>\n",
       "      <td>NaN</td>\n",
       "      <td>7.500000e+03</td>\n",
       "      <td>8.436900e+00</td>\n",
       "      <td>2.178333e+00</td>\n",
       "      <td>0.000000e+00</td>\n",
       "    </tr>\n",
       "    <tr>\n",
       "      <th>75%</th>\n",
       "      <td>1.391900e+05</td>\n",
       "      <td>1.107700e+04</td>\n",
       "      <td>4.180000e+03</td>\n",
       "      <td>6.005842e+07</td>\n",
       "      <td>2.013000e+03</td>\n",
       "      <td>4.000000</td>\n",
       "      <td>2694.000000</td>\n",
       "      <td>111.000000</td>\n",
       "      <td>4.000000</td>\n",
       "      <td>2.800000e+05</td>\n",
       "      <td>NaN</td>\n",
       "      <td>2.500000e+05</td>\n",
       "      <td>9.000000e+01</td>\n",
       "      <td>2.192982e+01</td>\n",
       "      <td>0.000000e+00</td>\n",
       "    </tr>\n",
       "    <tr>\n",
       "      <th>max</th>\n",
       "      <td>3.011750e+05</td>\n",
       "      <td>2.324600e+04</td>\n",
       "      <td>9.870000e+03</td>\n",
       "      <td>6.506535e+07</td>\n",
       "      <td>2.015000e+03</td>\n",
       "      <td>10.000000</td>\n",
       "      <td>12880.000000</td>\n",
       "      <td>309.000000</td>\n",
       "      <td>6.000000</td>\n",
       "      <td>2.655000e+07</td>\n",
       "      <td>NaN</td>\n",
       "      <td>1.263620e+07</td>\n",
       "      <td>7.442217e+04</td>\n",
       "      <td>6.528260e+04</td>\n",
       "      <td>3.930921e+05</td>\n",
       "    </tr>\n",
       "  </tbody>\n",
       "</table>\n",
       "</div>"
      ],
      "text/plain": [
       "       UnderwrittenCoverID      PolicyID    PostalCode        mmcode  \\\n",
       "count         1.000098e+06  1.000098e+06  1.000098e+06  9.995460e+05   \n",
       "mean          1.048175e+05  7.956682e+03  3.020601e+03  5.487770e+07   \n",
       "std           6.329371e+04  5.290039e+03  2.649854e+03  1.360381e+07   \n",
       "min           1.000000e+00  1.400000e+01  1.000000e+00  4.041200e+06   \n",
       "25%           5.514300e+04  4.500000e+03  8.270000e+02  6.005692e+07   \n",
       "50%           9.408300e+04  7.071000e+03  2.000000e+03  6.005842e+07   \n",
       "75%           1.391900e+05  1.107700e+04  4.180000e+03  6.005842e+07   \n",
       "max           3.011750e+05  2.324600e+04  9.870000e+03  6.506535e+07   \n",
       "\n",
       "       RegistrationYear      Cylinders  cubiccapacity      kilowatts  \\\n",
       "count      1.000098e+06  999546.000000  999546.000000  999546.000000   \n",
       "mean       2.010225e+03       4.046642    2466.743258      97.207919   \n",
       "std        3.261391e+00       0.294020     442.800640      19.393256   \n",
       "min        1.987000e+03       0.000000       0.000000       0.000000   \n",
       "25%        2.008000e+03       4.000000    2237.000000      75.000000   \n",
       "50%        2.011000e+03       4.000000    2694.000000     111.000000   \n",
       "75%        2.013000e+03       4.000000    2694.000000     111.000000   \n",
       "max        2.015000e+03      10.000000   12880.000000     309.000000   \n",
       "\n",
       "       NumberOfDoors  CustomValueEstimate  NumberOfVehiclesInFleet  \\\n",
       "count  999546.000000         2.204560e+05                      0.0   \n",
       "mean        4.019250         2.255311e+05                      NaN   \n",
       "std         0.468314         5.645157e+05                      NaN   \n",
       "min         0.000000         2.000000e+04                      NaN   \n",
       "25%         4.000000         1.350000e+05                      NaN   \n",
       "50%         4.000000         2.200000e+05                      NaN   \n",
       "75%         4.000000         2.800000e+05                      NaN   \n",
       "max         6.000000         2.655000e+07                      NaN   \n",
       "\n",
       "         SumInsured  CalculatedPremiumPerTerm  TotalPremium   TotalClaims  \n",
       "count  1.000098e+06              1.000098e+06  1.000098e+06  1.000098e+06  \n",
       "mean   6.041727e+05              1.178757e+02  6.190550e+01  6.486119e+01  \n",
       "std    1.508332e+06              3.997017e+02  2.302845e+02  2.384075e+03  \n",
       "min    1.000000e-02              0.000000e+00 -7.825768e+02 -1.200241e+04  \n",
       "25%    5.000000e+03              3.224800e+00  0.000000e+00  0.000000e+00  \n",
       "50%    7.500000e+03              8.436900e+00  2.178333e+00  0.000000e+00  \n",
       "75%    2.500000e+05              9.000000e+01  2.192982e+01  0.000000e+00  \n",
       "max    1.263620e+07              7.442217e+04  6.528260e+04  3.930921e+05  "
      ]
     },
     "execution_count": 6,
     "metadata": {},
     "output_type": "execute_result"
    }
   ],
   "source": [
    "df.describe()"
   ]
  },
  {
   "cell_type": "markdown",
   "metadata": {},
   "source": [
    "## variability for numerical colunms"
   ]
  },
  {
   "cell_type": "code",
   "execution_count": 12,
   "metadata": {},
   "outputs": [
    {
     "name": "stdout",
     "output_type": "stream",
     "text": [
      "                                 Range      Variance  Standard Deviation\n",
      "TotalPremium              6.606518e+04  5.303096e+04        2.302845e+02\n",
      "TotalClaims               4.050945e+05  5.683812e+06        2.384075e+03\n",
      "SumInsured                1.263620e+07  2.275065e+12        1.508332e+06\n",
      "CalculatedPremiumPerTerm  7.442217e+04  1.597615e+05        3.997017e+02\n",
      "CustomValueEstimate       2.653000e+07  3.186780e+11        5.645157e+05\n"
     ]
    }
   ],
   "source": [
    "columns = ['TotalPremium', 'TotalClaims', 'SumInsured', 'CalculatedPremiumPerTerm', 'CustomValueEstimate']\n",
    "result = {}\n",
    "\n",
    "# Calculate variability for each column\n",
    "for col in columns:\n",
    "    data = df[col]\n",
    "    result[col] = {\n",
    "        'Range': data.max() - data.min(),\n",
    "        'Variance': data.var(),\n",
    "        'Standard Deviation': data.std()\n",
    "    }\n",
    "\n",
    "variability_result = pd.DataFrame(result)  # Transpose to have columns as rows\n",
    "print(variability_result.T)\n"
   ]
  },
  {
   "cell_type": "code",
   "execution_count": 11,
   "metadata": {},
   "outputs": [
    {
     "data": {
      "application/vnd.plotly.v1+json": {
       "config": {
        "plotlyServerURL": "https://plot.ly"
       },
       "data": [
        {
         "marker": {
          "color": "red"
         },
         "name": "TotalPremium",
         "type": "bar",
         "x": [
          "Range",
          "Variance",
          "Standard Deviation"
         ],
         "y": [
          66065.18017543857,
          53030.956815882615,
          230.28451275733377
         ]
        },
        {
         "marker": {
          "color": "green"
         },
         "name": "TotalClaims",
         "type": "bar",
         "x": [
          "Range",
          "Variance",
          "Standard Deviation"
         ],
         "y": [
          405094.5175438598,
          5683812.14896821,
          2384.0746945027145
         ]
        },
        {
         "marker": {
          "color": "blue"
         },
         "name": "SumInsured",
         "type": "bar",
         "x": [
          "Range",
          "Variance",
          "Standard Deviation"
         ],
         "y": [
          12636199.99,
          2275064933517.06,
          1508331.8379975476
         ]
        },
        {
         "marker": {
          "color": "red"
         },
         "name": "CalculatedPremiumPerTerm",
         "type": "bar",
         "x": [
          "Range",
          "Variance",
          "Standard Deviation"
         ],
         "y": [
          74422.1679,
          159761.46582085095,
          399.70172106315846
         ]
        },
        {
         "marker": {
          "color": "green"
         },
         "name": "CustomValueEstimate",
         "type": "bar",
         "x": [
          "Range",
          "Variance",
          "Standard Deviation"
         ],
         "y": [
          26530000,
          318678031826.3935,
          564515.7498479502
         ]
        }
       ],
       "layout": {
        "height": 600,
        "template": {
         "data": {
          "bar": [
           {
            "error_x": {
             "color": "#2a3f5f"
            },
            "error_y": {
             "color": "#2a3f5f"
            },
            "marker": {
             "line": {
              "color": "#E5ECF6",
              "width": 0.5
             },
             "pattern": {
              "fillmode": "overlay",
              "size": 10,
              "solidity": 0.2
             }
            },
            "type": "bar"
           }
          ],
          "barpolar": [
           {
            "marker": {
             "line": {
              "color": "#E5ECF6",
              "width": 0.5
             },
             "pattern": {
              "fillmode": "overlay",
              "size": 10,
              "solidity": 0.2
             }
            },
            "type": "barpolar"
           }
          ],
          "carpet": [
           {
            "aaxis": {
             "endlinecolor": "#2a3f5f",
             "gridcolor": "white",
             "linecolor": "white",
             "minorgridcolor": "white",
             "startlinecolor": "#2a3f5f"
            },
            "baxis": {
             "endlinecolor": "#2a3f5f",
             "gridcolor": "white",
             "linecolor": "white",
             "minorgridcolor": "white",
             "startlinecolor": "#2a3f5f"
            },
            "type": "carpet"
           }
          ],
          "choropleth": [
           {
            "colorbar": {
             "outlinewidth": 0,
             "ticks": ""
            },
            "type": "choropleth"
           }
          ],
          "contour": [
           {
            "colorbar": {
             "outlinewidth": 0,
             "ticks": ""
            },
            "colorscale": [
             [
              0,
              "#0d0887"
             ],
             [
              0.1111111111111111,
              "#46039f"
             ],
             [
              0.2222222222222222,
              "#7201a8"
             ],
             [
              0.3333333333333333,
              "#9c179e"
             ],
             [
              0.4444444444444444,
              "#bd3786"
             ],
             [
              0.5555555555555556,
              "#d8576b"
             ],
             [
              0.6666666666666666,
              "#ed7953"
             ],
             [
              0.7777777777777778,
              "#fb9f3a"
             ],
             [
              0.8888888888888888,
              "#fdca26"
             ],
             [
              1,
              "#f0f921"
             ]
            ],
            "type": "contour"
           }
          ],
          "contourcarpet": [
           {
            "colorbar": {
             "outlinewidth": 0,
             "ticks": ""
            },
            "type": "contourcarpet"
           }
          ],
          "heatmap": [
           {
            "colorbar": {
             "outlinewidth": 0,
             "ticks": ""
            },
            "colorscale": [
             [
              0,
              "#0d0887"
             ],
             [
              0.1111111111111111,
              "#46039f"
             ],
             [
              0.2222222222222222,
              "#7201a8"
             ],
             [
              0.3333333333333333,
              "#9c179e"
             ],
             [
              0.4444444444444444,
              "#bd3786"
             ],
             [
              0.5555555555555556,
              "#d8576b"
             ],
             [
              0.6666666666666666,
              "#ed7953"
             ],
             [
              0.7777777777777778,
              "#fb9f3a"
             ],
             [
              0.8888888888888888,
              "#fdca26"
             ],
             [
              1,
              "#f0f921"
             ]
            ],
            "type": "heatmap"
           }
          ],
          "heatmapgl": [
           {
            "colorbar": {
             "outlinewidth": 0,
             "ticks": ""
            },
            "colorscale": [
             [
              0,
              "#0d0887"
             ],
             [
              0.1111111111111111,
              "#46039f"
             ],
             [
              0.2222222222222222,
              "#7201a8"
             ],
             [
              0.3333333333333333,
              "#9c179e"
             ],
             [
              0.4444444444444444,
              "#bd3786"
             ],
             [
              0.5555555555555556,
              "#d8576b"
             ],
             [
              0.6666666666666666,
              "#ed7953"
             ],
             [
              0.7777777777777778,
              "#fb9f3a"
             ],
             [
              0.8888888888888888,
              "#fdca26"
             ],
             [
              1,
              "#f0f921"
             ]
            ],
            "type": "heatmapgl"
           }
          ],
          "histogram": [
           {
            "marker": {
             "pattern": {
              "fillmode": "overlay",
              "size": 10,
              "solidity": 0.2
             }
            },
            "type": "histogram"
           }
          ],
          "histogram2d": [
           {
            "colorbar": {
             "outlinewidth": 0,
             "ticks": ""
            },
            "colorscale": [
             [
              0,
              "#0d0887"
             ],
             [
              0.1111111111111111,
              "#46039f"
             ],
             [
              0.2222222222222222,
              "#7201a8"
             ],
             [
              0.3333333333333333,
              "#9c179e"
             ],
             [
              0.4444444444444444,
              "#bd3786"
             ],
             [
              0.5555555555555556,
              "#d8576b"
             ],
             [
              0.6666666666666666,
              "#ed7953"
             ],
             [
              0.7777777777777778,
              "#fb9f3a"
             ],
             [
              0.8888888888888888,
              "#fdca26"
             ],
             [
              1,
              "#f0f921"
             ]
            ],
            "type": "histogram2d"
           }
          ],
          "histogram2dcontour": [
           {
            "colorbar": {
             "outlinewidth": 0,
             "ticks": ""
            },
            "colorscale": [
             [
              0,
              "#0d0887"
             ],
             [
              0.1111111111111111,
              "#46039f"
             ],
             [
              0.2222222222222222,
              "#7201a8"
             ],
             [
              0.3333333333333333,
              "#9c179e"
             ],
             [
              0.4444444444444444,
              "#bd3786"
             ],
             [
              0.5555555555555556,
              "#d8576b"
             ],
             [
              0.6666666666666666,
              "#ed7953"
             ],
             [
              0.7777777777777778,
              "#fb9f3a"
             ],
             [
              0.8888888888888888,
              "#fdca26"
             ],
             [
              1,
              "#f0f921"
             ]
            ],
            "type": "histogram2dcontour"
           }
          ],
          "mesh3d": [
           {
            "colorbar": {
             "outlinewidth": 0,
             "ticks": ""
            },
            "type": "mesh3d"
           }
          ],
          "parcoords": [
           {
            "line": {
             "colorbar": {
              "outlinewidth": 0,
              "ticks": ""
             }
            },
            "type": "parcoords"
           }
          ],
          "pie": [
           {
            "automargin": true,
            "type": "pie"
           }
          ],
          "scatter": [
           {
            "fillpattern": {
             "fillmode": "overlay",
             "size": 10,
             "solidity": 0.2
            },
            "type": "scatter"
           }
          ],
          "scatter3d": [
           {
            "line": {
             "colorbar": {
              "outlinewidth": 0,
              "ticks": ""
             }
            },
            "marker": {
             "colorbar": {
              "outlinewidth": 0,
              "ticks": ""
             }
            },
            "type": "scatter3d"
           }
          ],
          "scattercarpet": [
           {
            "marker": {
             "colorbar": {
              "outlinewidth": 0,
              "ticks": ""
             }
            },
            "type": "scattercarpet"
           }
          ],
          "scattergeo": [
           {
            "marker": {
             "colorbar": {
              "outlinewidth": 0,
              "ticks": ""
             }
            },
            "type": "scattergeo"
           }
          ],
          "scattergl": [
           {
            "marker": {
             "colorbar": {
              "outlinewidth": 0,
              "ticks": ""
             }
            },
            "type": "scattergl"
           }
          ],
          "scattermapbox": [
           {
            "marker": {
             "colorbar": {
              "outlinewidth": 0,
              "ticks": ""
             }
            },
            "type": "scattermapbox"
           }
          ],
          "scatterpolar": [
           {
            "marker": {
             "colorbar": {
              "outlinewidth": 0,
              "ticks": ""
             }
            },
            "type": "scatterpolar"
           }
          ],
          "scatterpolargl": [
           {
            "marker": {
             "colorbar": {
              "outlinewidth": 0,
              "ticks": ""
             }
            },
            "type": "scatterpolargl"
           }
          ],
          "scatterternary": [
           {
            "marker": {
             "colorbar": {
              "outlinewidth": 0,
              "ticks": ""
             }
            },
            "type": "scatterternary"
           }
          ],
          "surface": [
           {
            "colorbar": {
             "outlinewidth": 0,
             "ticks": ""
            },
            "colorscale": [
             [
              0,
              "#0d0887"
             ],
             [
              0.1111111111111111,
              "#46039f"
             ],
             [
              0.2222222222222222,
              "#7201a8"
             ],
             [
              0.3333333333333333,
              "#9c179e"
             ],
             [
              0.4444444444444444,
              "#bd3786"
             ],
             [
              0.5555555555555556,
              "#d8576b"
             ],
             [
              0.6666666666666666,
              "#ed7953"
             ],
             [
              0.7777777777777778,
              "#fb9f3a"
             ],
             [
              0.8888888888888888,
              "#fdca26"
             ],
             [
              1,
              "#f0f921"
             ]
            ],
            "type": "surface"
           }
          ],
          "table": [
           {
            "cells": {
             "fill": {
              "color": "#EBF0F8"
             },
             "line": {
              "color": "white"
             }
            },
            "header": {
             "fill": {
              "color": "#C8D4E3"
             },
             "line": {
              "color": "white"
             }
            },
            "type": "table"
           }
          ]
         },
         "layout": {
          "annotationdefaults": {
           "arrowcolor": "#2a3f5f",
           "arrowhead": 0,
           "arrowwidth": 1
          },
          "autotypenumbers": "strict",
          "coloraxis": {
           "colorbar": {
            "outlinewidth": 0,
            "ticks": ""
           }
          },
          "colorscale": {
           "diverging": [
            [
             0,
             "#8e0152"
            ],
            [
             0.1,
             "#c51b7d"
            ],
            [
             0.2,
             "#de77ae"
            ],
            [
             0.3,
             "#f1b6da"
            ],
            [
             0.4,
             "#fde0ef"
            ],
            [
             0.5,
             "#f7f7f7"
            ],
            [
             0.6,
             "#e6f5d0"
            ],
            [
             0.7,
             "#b8e186"
            ],
            [
             0.8,
             "#7fbc41"
            ],
            [
             0.9,
             "#4d9221"
            ],
            [
             1,
             "#276419"
            ]
           ],
           "sequential": [
            [
             0,
             "#0d0887"
            ],
            [
             0.1111111111111111,
             "#46039f"
            ],
            [
             0.2222222222222222,
             "#7201a8"
            ],
            [
             0.3333333333333333,
             "#9c179e"
            ],
            [
             0.4444444444444444,
             "#bd3786"
            ],
            [
             0.5555555555555556,
             "#d8576b"
            ],
            [
             0.6666666666666666,
             "#ed7953"
            ],
            [
             0.7777777777777778,
             "#fb9f3a"
            ],
            [
             0.8888888888888888,
             "#fdca26"
            ],
            [
             1,
             "#f0f921"
            ]
           ],
           "sequentialminus": [
            [
             0,
             "#0d0887"
            ],
            [
             0.1111111111111111,
             "#46039f"
            ],
            [
             0.2222222222222222,
             "#7201a8"
            ],
            [
             0.3333333333333333,
             "#9c179e"
            ],
            [
             0.4444444444444444,
             "#bd3786"
            ],
            [
             0.5555555555555556,
             "#d8576b"
            ],
            [
             0.6666666666666666,
             "#ed7953"
            ],
            [
             0.7777777777777778,
             "#fb9f3a"
            ],
            [
             0.8888888888888888,
             "#fdca26"
            ],
            [
             1,
             "#f0f921"
            ]
           ]
          },
          "colorway": [
           "#636efa",
           "#EF553B",
           "#00cc96",
           "#ab63fa",
           "#FFA15A",
           "#19d3f3",
           "#FF6692",
           "#B6E880",
           "#FF97FF",
           "#FECB52"
          ],
          "font": {
           "color": "#2a3f5f"
          },
          "geo": {
           "bgcolor": "white",
           "lakecolor": "white",
           "landcolor": "#E5ECF6",
           "showlakes": true,
           "showland": true,
           "subunitcolor": "white"
          },
          "hoverlabel": {
           "align": "left"
          },
          "hovermode": "closest",
          "mapbox": {
           "style": "light"
          },
          "paper_bgcolor": "white",
          "plot_bgcolor": "#E5ECF6",
          "polar": {
           "angularaxis": {
            "gridcolor": "white",
            "linecolor": "white",
            "ticks": ""
           },
           "bgcolor": "#E5ECF6",
           "radialaxis": {
            "gridcolor": "white",
            "linecolor": "white",
            "ticks": ""
           }
          },
          "scene": {
           "xaxis": {
            "backgroundcolor": "#E5ECF6",
            "gridcolor": "white",
            "gridwidth": 2,
            "linecolor": "white",
            "showbackground": true,
            "ticks": "",
            "zerolinecolor": "white"
           },
           "yaxis": {
            "backgroundcolor": "#E5ECF6",
            "gridcolor": "white",
            "gridwidth": 2,
            "linecolor": "white",
            "showbackground": true,
            "ticks": "",
            "zerolinecolor": "white"
           },
           "zaxis": {
            "backgroundcolor": "#E5ECF6",
            "gridcolor": "white",
            "gridwidth": 2,
            "linecolor": "white",
            "showbackground": true,
            "ticks": "",
            "zerolinecolor": "white"
           }
          },
          "shapedefaults": {
           "line": {
            "color": "#2a3f5f"
           }
          },
          "ternary": {
           "aaxis": {
            "gridcolor": "white",
            "linecolor": "white",
            "ticks": ""
           },
           "baxis": {
            "gridcolor": "white",
            "linecolor": "white",
            "ticks": ""
           },
           "bgcolor": "#E5ECF6",
           "caxis": {
            "gridcolor": "white",
            "linecolor": "white",
            "ticks": ""
           }
          },
          "title": {
           "x": 0.05
          },
          "xaxis": {
           "automargin": true,
           "gridcolor": "white",
           "linecolor": "white",
           "ticks": "",
           "title": {
            "standoff": 15
           },
           "zerolinecolor": "white",
           "zerolinewidth": 2
          },
          "yaxis": {
           "automargin": true,
           "gridcolor": "white",
           "linecolor": "white",
           "ticks": "",
           "title": {
            "standoff": 15
           },
           "zerolinecolor": "white",
           "zerolinewidth": 2
          }
         }
        },
        "title": {
         "text": "Measurements for Variables"
        },
        "width": 800,
        "xaxis": {
         "title": {
          "text": "Measurement"
         }
        },
        "yaxis": {
         "title": {
          "text": "Value"
         }
        }
       }
      }
     },
     "metadata": {},
     "output_type": "display_data"
    }
   ],
   "source": [
    "plot_stats(variability_result)"
   ]
  },
  {
   "cell_type": "markdown",
   "metadata": {},
   "source": [
    "## Data Structure and Formatting"
   ]
  },
  {
   "cell_type": "code",
   "execution_count": 7,
   "metadata": {},
   "outputs": [
    {
     "name": "stdout",
     "output_type": "stream",
     "text": [
      "<class 'pandas.core.frame.DataFrame'>\n",
      "RangeIndex: 1000098 entries, 0 to 1000097\n",
      "Data columns (total 52 columns):\n",
      " #   Column                    Non-Null Count    Dtype  \n",
      "---  ------                    --------------    -----  \n",
      " 0   UnderwrittenCoverID       1000098 non-null  int64  \n",
      " 1   PolicyID                  1000098 non-null  int64  \n",
      " 2   TransactionMonth          1000098 non-null  object \n",
      " 3   IsVATRegistered           1000098 non-null  bool   \n",
      " 4   Citizenship               1000098 non-null  object \n",
      " 5   LegalType                 1000098 non-null  object \n",
      " 6   Title                     1000098 non-null  object \n",
      " 7   Language                  1000098 non-null  object \n",
      " 8   Bank                      854137 non-null   object \n",
      " 9   AccountType               959866 non-null   object \n",
      " 10  MaritalStatus             991839 non-null   object \n",
      " 11  Gender                    990562 non-null   object \n",
      " 12  Country                   1000098 non-null  object \n",
      " 13  Province                  1000098 non-null  object \n",
      " 14  PostalCode                1000098 non-null  int64  \n",
      " 15  MainCrestaZone            1000098 non-null  object \n",
      " 16  SubCrestaZone             1000098 non-null  object \n",
      " 17  ItemType                  1000098 non-null  object \n",
      " 18  mmcode                    999546 non-null   float64\n",
      " 19  VehicleType               999546 non-null   object \n",
      " 20  RegistrationYear          1000098 non-null  int64  \n",
      " 21  make                      999546 non-null   object \n",
      " 22  Model                     999546 non-null   object \n",
      " 23  Cylinders                 999546 non-null   float64\n",
      " 24  cubiccapacity             999546 non-null   float64\n",
      " 25  kilowatts                 999546 non-null   float64\n",
      " 26  bodytype                  999546 non-null   object \n",
      " 27  NumberOfDoors             999546 non-null   float64\n",
      " 28  VehicleIntroDate          999546 non-null   object \n",
      " 29  CustomValueEstimate       220456 non-null   float64\n",
      " 30  AlarmImmobiliser          1000098 non-null  object \n",
      " 31  TrackingDevice            1000098 non-null  object \n",
      " 32  CapitalOutstanding        1000096 non-null  object \n",
      " 33  NewVehicle                846803 non-null   object \n",
      " 34  WrittenOff                358197 non-null   object \n",
      " 35  Rebuilt                   358197 non-null   object \n",
      " 36  Converted                 358197 non-null   object \n",
      " 37  CrossBorder               698 non-null      object \n",
      " 38  NumberOfVehiclesInFleet   0 non-null        float64\n",
      " 39  SumInsured                1000098 non-null  float64\n",
      " 40  TermFrequency             1000098 non-null  object \n",
      " 41  CalculatedPremiumPerTerm  1000098 non-null  float64\n",
      " 42  ExcessSelected            1000098 non-null  object \n",
      " 43  CoverCategory             1000098 non-null  object \n",
      " 44  CoverType                 1000098 non-null  object \n",
      " 45  CoverGroup                1000098 non-null  object \n",
      " 46  Section                   1000098 non-null  object \n",
      " 47  Product                   1000098 non-null  object \n",
      " 48  StatutoryClass            1000098 non-null  object \n",
      " 49  StatutoryRiskType         1000098 non-null  object \n",
      " 50  TotalPremium              1000098 non-null  float64\n",
      " 51  TotalClaims               1000098 non-null  float64\n",
      "dtypes: bool(1), float64(11), int64(4), object(36)\n",
      "memory usage: 390.1+ MB\n"
     ]
    }
   ],
   "source": [
    "df.info()"
   ]
  },
  {
   "cell_type": "markdown",
   "metadata": {},
   "source": [
    "## formatting the data"
   ]
  },
  {
   "cell_type": "code",
   "execution_count": 38,
   "metadata": {},
   "outputs": [],
   "source": [
    "df = format_data(df)"
   ]
  },
  {
   "cell_type": "code",
   "execution_count": null,
   "metadata": {},
   "outputs": [],
   "source": []
  }
 ],
 "metadata": {
  "kernelspec": {
   "display_name": "base",
   "language": "python",
   "name": "python3"
  },
  "language_info": {
   "codemirror_mode": {
    "name": "ipython",
    "version": 3
   },
   "file_extension": ".py",
   "mimetype": "text/x-python",
   "name": "python",
   "nbconvert_exporter": "python",
   "pygments_lexer": "ipython3",
   "version": "3.12.4"
  }
 },
 "nbformat": 4,
 "nbformat_minor": 2
}
